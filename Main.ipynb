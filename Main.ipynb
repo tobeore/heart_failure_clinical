{
 "cells": [
  {
   "cell_type": "markdown",
   "id": "64cc0402",
   "metadata": {},
   "source": [
    "    IMPORTING NEEDED LIBRARIES"
   ]
  },
  {
   "cell_type": "code",
   "execution_count": 3,
   "id": "c46bdfe2",
   "metadata": {},
   "outputs": [],
   "source": [
    "%run EDA.py\n"
   ]
  },
  {
   "cell_type": "code",
   "execution_count": 18,
   "id": "323c4eb5",
   "metadata": {},
   "outputs": [],
   "source": [
    "import EDA \n",
    "\n",
    "import numpy as np\n",
    "import pandas as pd\n",
    "import matplotlib.pyplot as plt\n",
    "import seaborn as sns\n",
    "from sklearn.model_selection import train_test_split\n",
    "from sklearn.naive_bayes import GaussianNB\n",
    "from sklearn.linear_model import LogisticRegression\n",
    "from sklearn.svm import SVC\n",
    "from sklearn.ensemble import RandomForestClassifier\n",
    "from sklearn.neighbors import KNeighborsClassifier\n",
    "from sklearn.neural_network import MLPClassifier\n",
    "from sklearn.metrics import confusion_matrix, accuracy_score, precision_score, recall_score,f1_score,mean_squared_error\n",
    "from imblearn.over_sampling import SMOTE"
   ]
  },
  {
   "cell_type": "code",
   "execution_count": 5,
   "id": "7df1a238",
   "metadata": {},
   "outputs": [
    {
     "name": "stdout",
     "output_type": "stream",
     "text": [
      "    age  anaemia  creatinine_phosphokinase  diabetes  ejection_fraction  \\\n",
      "0  75.0        0                       582         0                 20   \n",
      "1  55.0        0                      7861         0                 38   \n",
      "2  65.0        0                       146         0                 20   \n",
      "3  50.0        1                       111         0                 20   \n",
      "4  65.0        1                       160         1                 20   \n",
      "\n",
      "   high_blood_pressure  platelets  serum_creatinine  serum_sodium  sex  \\\n",
      "0                    1  265000.00               1.9           130    1   \n",
      "1                    0  263358.03               1.1           136    1   \n",
      "2                    0  162000.00               1.3           129    1   \n",
      "3                    0  210000.00               1.9           137    1   \n",
      "4                    0  327000.00               2.7           116    0   \n",
      "\n",
      "   smoking  time  DEATH_EVENT  \n",
      "0        0     4            1  \n",
      "1        0     6            1  \n",
      "2        1     7            1  \n",
      "3        0     7            1  \n",
      "4        0     8            1  \n"
     ]
    }
   ],
   "source": [
    "#loading dataset using pandas\n",
    "data = pd.read_csv(\"heart_failure_clinical_records_dataset.csv\")\n",
    "print(data.head())"
   ]
  },
  {
   "cell_type": "code",
   "execution_count": 6,
   "id": "9c1b1489",
   "metadata": {},
   "outputs": [
    {
     "data": {
      "text/html": [
       "<div>\n",
       "<style scoped>\n",
       "    .dataframe tbody tr th:only-of-type {\n",
       "        vertical-align: middle;\n",
       "    }\n",
       "\n",
       "    .dataframe tbody tr th {\n",
       "        vertical-align: top;\n",
       "    }\n",
       "\n",
       "    .dataframe thead th {\n",
       "        text-align: right;\n",
       "    }\n",
       "</style>\n",
       "<table border=\"1\" class=\"dataframe\">\n",
       "  <thead>\n",
       "    <tr style=\"text-align: right;\">\n",
       "      <th></th>\n",
       "      <th>Missing Num</th>\n",
       "      <th>index</th>\n",
       "    </tr>\n",
       "  </thead>\n",
       "  <tbody>\n",
       "    <tr>\n",
       "      <th>age</th>\n",
       "      <td>0</td>\n",
       "      <td></td>\n",
       "    </tr>\n",
       "    <tr>\n",
       "      <th>anaemia</th>\n",
       "      <td>0</td>\n",
       "      <td></td>\n",
       "    </tr>\n",
       "    <tr>\n",
       "      <th>creatinine_phosphokinase</th>\n",
       "      <td>0</td>\n",
       "      <td></td>\n",
       "    </tr>\n",
       "    <tr>\n",
       "      <th>diabetes</th>\n",
       "      <td>0</td>\n",
       "      <td></td>\n",
       "    </tr>\n",
       "    <tr>\n",
       "      <th>ejection_fraction</th>\n",
       "      <td>0</td>\n",
       "      <td></td>\n",
       "    </tr>\n",
       "    <tr>\n",
       "      <th>high_blood_pressure</th>\n",
       "      <td>0</td>\n",
       "      <td></td>\n",
       "    </tr>\n",
       "    <tr>\n",
       "      <th>platelets</th>\n",
       "      <td>0</td>\n",
       "      <td></td>\n",
       "    </tr>\n",
       "    <tr>\n",
       "      <th>serum_creatinine</th>\n",
       "      <td>0</td>\n",
       "      <td></td>\n",
       "    </tr>\n",
       "    <tr>\n",
       "      <th>serum_sodium</th>\n",
       "      <td>0</td>\n",
       "      <td></td>\n",
       "    </tr>\n",
       "    <tr>\n",
       "      <th>sex</th>\n",
       "      <td>0</td>\n",
       "      <td></td>\n",
       "    </tr>\n",
       "    <tr>\n",
       "      <th>smoking</th>\n",
       "      <td>0</td>\n",
       "      <td></td>\n",
       "    </tr>\n",
       "    <tr>\n",
       "      <th>time</th>\n",
       "      <td>0</td>\n",
       "      <td></td>\n",
       "    </tr>\n",
       "    <tr>\n",
       "      <th>DEATH_EVENT</th>\n",
       "      <td>0</td>\n",
       "      <td></td>\n",
       "    </tr>\n",
       "  </tbody>\n",
       "</table>\n",
       "</div>"
      ],
      "text/plain": [
       "                          Missing Num index\n",
       "age                                 0      \n",
       "anaemia                             0      \n",
       "creatinine_phosphokinase            0      \n",
       "diabetes                            0      \n",
       "ejection_fraction                   0      \n",
       "high_blood_pressure                 0      \n",
       "platelets                           0      \n",
       "serum_creatinine                    0      \n",
       "serum_sodium                        0      \n",
       "sex                                 0      \n",
       "smoking                             0      \n",
       "time                                0      \n",
       "DEATH_EVENT                         0      "
      ]
     },
     "execution_count": 6,
     "metadata": {},
     "output_type": "execute_result"
    }
   ],
   "source": [
    "EDA.check_missing_values(data)"
   ]
  },
  {
   "cell_type": "markdown",
   "id": "2e389cdb",
   "metadata": {},
   "source": [
    "Since there is no missing value in the dataset, the data can be used now"
   ]
  },
  {
   "cell_type": "code",
   "execution_count": 7,
   "id": "9ac98077",
   "metadata": {},
   "outputs": [],
   "source": [
    "#changing the data type of all values in the dataset to int\n",
    "data = data.astype(\"int64\")"
   ]
  },
  {
   "cell_type": "code",
   "execution_count": null,
   "id": "4c70bb4a",
   "metadata": {},
   "outputs": [],
   "source": []
  },
  {
   "cell_type": "code",
   "execution_count": 8,
   "id": "2ef2bb6a",
   "metadata": {},
   "outputs": [
    {
     "data": {
      "text/html": [
       "<div>\n",
       "<style scoped>\n",
       "    .dataframe tbody tr th:only-of-type {\n",
       "        vertical-align: middle;\n",
       "    }\n",
       "\n",
       "    .dataframe tbody tr th {\n",
       "        vertical-align: top;\n",
       "    }\n",
       "\n",
       "    .dataframe thead th {\n",
       "        text-align: right;\n",
       "    }\n",
       "</style>\n",
       "<table border=\"1\" class=\"dataframe\">\n",
       "  <thead>\n",
       "    <tr style=\"text-align: right;\">\n",
       "      <th></th>\n",
       "      <th>age</th>\n",
       "      <th>anaemia</th>\n",
       "      <th>creatinine_phosphokinase</th>\n",
       "      <th>diabetes</th>\n",
       "      <th>ejection_fraction</th>\n",
       "      <th>high_blood_pressure</th>\n",
       "      <th>platelets</th>\n",
       "      <th>serum_creatinine</th>\n",
       "      <th>serum_sodium</th>\n",
       "      <th>sex</th>\n",
       "      <th>smoking</th>\n",
       "      <th>time</th>\n",
       "      <th>DEATH_EVENT</th>\n",
       "    </tr>\n",
       "  </thead>\n",
       "  <tbody>\n",
       "    <tr>\n",
       "      <th>mean</th>\n",
       "      <td>[60.82943143812709]</td>\n",
       "      <td>[0.431438127090301]</td>\n",
       "      <td>[581.8394648829432]</td>\n",
       "      <td>[0.4180602006688963]</td>\n",
       "      <td>[38.08361204013378]</td>\n",
       "      <td>[0.3511705685618729]</td>\n",
       "      <td>[263358.02675585286]</td>\n",
       "      <td>[0.979933110367893]</td>\n",
       "      <td>[136.62541806020067]</td>\n",
       "      <td>[0.6488294314381271]</td>\n",
       "      <td>[0.3210702341137124]</td>\n",
       "      <td>[130.2608695652174]</td>\n",
       "      <td>[0.3210702341137124]</td>\n",
       "    </tr>\n",
       "    <tr>\n",
       "      <th>median</th>\n",
       "      <td>[60.0]</td>\n",
       "      <td>[0.0]</td>\n",
       "      <td>[250.0]</td>\n",
       "      <td>[0.0]</td>\n",
       "      <td>[38.0]</td>\n",
       "      <td>[0.0]</td>\n",
       "      <td>[262000.0]</td>\n",
       "      <td>[1.0]</td>\n",
       "      <td>[137.0]</td>\n",
       "      <td>[1.0]</td>\n",
       "      <td>[0.0]</td>\n",
       "      <td>[115.0]</td>\n",
       "      <td>[0.0]</td>\n",
       "    </tr>\n",
       "    <tr>\n",
       "      <th>mode</th>\n",
       "      <td>[60]</td>\n",
       "      <td>[0]</td>\n",
       "      <td>[582]</td>\n",
       "      <td>[0]</td>\n",
       "      <td>[35]</td>\n",
       "      <td>[0]</td>\n",
       "      <td>[263358]</td>\n",
       "      <td>[1]</td>\n",
       "      <td>[136]</td>\n",
       "      <td>[1]</td>\n",
       "      <td>[0]</td>\n",
       "      <td>[187]</td>\n",
       "      <td>[0]</td>\n",
       "    </tr>\n",
       "    <tr>\n",
       "      <th>var</th>\n",
       "      <td>[141.49094296424292]</td>\n",
       "      <td>[0.2461224214944669]</td>\n",
       "      <td>[941458.5714574311]</td>\n",
       "      <td>[0.2441022648200937]</td>\n",
       "      <td>[140.06345536576063]</td>\n",
       "      <td>[0.2286143969832332]</td>\n",
       "      <td>[9565668749.448944]</td>\n",
       "      <td>[1.2076496599402873]</td>\n",
       "      <td>[19.469955781015]</td>\n",
       "      <td>[0.22861439698323285]</td>\n",
       "      <td>[0.21871562927880447]</td>\n",
       "      <td>[6023.96527575139]</td>\n",
       "      <td>[0.21871562927880447]</td>\n",
       "    </tr>\n",
       "    <tr>\n",
       "      <th>std_dev</th>\n",
       "      <td>[11.894996551670072]</td>\n",
       "      <td>[0.49610726813307915]</td>\n",
       "      <td>[970.2878807124363]</td>\n",
       "      <td>[0.49406706510360887]</td>\n",
       "      <td>[11.834840741039173]</td>\n",
       "      <td>[0.4781363790627452]</td>\n",
       "      <td>[97804.23686859861]</td>\n",
       "      <td>[1.0989311443126395]</td>\n",
       "      <td>[4.412477283909233]</td>\n",
       "      <td>[0.47813637906274487]</td>\n",
       "      <td>[0.4676704280567721]</td>\n",
       "      <td>[77.61420795029342]</td>\n",
       "      <td>[0.4676704280567721]</td>\n",
       "    </tr>\n",
       "    <tr>\n",
       "      <th>min</th>\n",
       "      <td>[40]</td>\n",
       "      <td>[0]</td>\n",
       "      <td>[23]</td>\n",
       "      <td>[0]</td>\n",
       "      <td>[14]</td>\n",
       "      <td>[0]</td>\n",
       "      <td>[25100]</td>\n",
       "      <td>[0]</td>\n",
       "      <td>[113]</td>\n",
       "      <td>[0]</td>\n",
       "      <td>[0]</td>\n",
       "      <td>[4]</td>\n",
       "      <td>[0]</td>\n",
       "    </tr>\n",
       "    <tr>\n",
       "      <th>max</th>\n",
       "      <td>[95]</td>\n",
       "      <td>[1]</td>\n",
       "      <td>[7861]</td>\n",
       "      <td>[1]</td>\n",
       "      <td>[80]</td>\n",
       "      <td>[1]</td>\n",
       "      <td>[850000]</td>\n",
       "      <td>[9]</td>\n",
       "      <td>[148]</td>\n",
       "      <td>[1]</td>\n",
       "      <td>[1]</td>\n",
       "      <td>[285]</td>\n",
       "      <td>[1]</td>\n",
       "    </tr>\n",
       "    <tr>\n",
       "      <th>count</th>\n",
       "      <td>[299]</td>\n",
       "      <td>[299]</td>\n",
       "      <td>[299]</td>\n",
       "      <td>[299]</td>\n",
       "      <td>[299]</td>\n",
       "      <td>[299]</td>\n",
       "      <td>[299]</td>\n",
       "      <td>[299]</td>\n",
       "      <td>[299]</td>\n",
       "      <td>[299]</td>\n",
       "      <td>[299]</td>\n",
       "      <td>[299]</td>\n",
       "      <td>[299]</td>\n",
       "    </tr>\n",
       "    <tr>\n",
       "      <th>25%</th>\n",
       "      <td>[51.0]</td>\n",
       "      <td>[0.0]</td>\n",
       "      <td>[116.5]</td>\n",
       "      <td>[0.0]</td>\n",
       "      <td>[30.0]</td>\n",
       "      <td>[0.0]</td>\n",
       "      <td>[212500.0]</td>\n",
       "      <td>[0.0]</td>\n",
       "      <td>[134.0]</td>\n",
       "      <td>[0.0]</td>\n",
       "      <td>[0.0]</td>\n",
       "      <td>[73.0]</td>\n",
       "      <td>[0.0]</td>\n",
       "    </tr>\n",
       "    <tr>\n",
       "      <th>50%</th>\n",
       "      <td>[60.0]</td>\n",
       "      <td>[0.0]</td>\n",
       "      <td>[250.0]</td>\n",
       "      <td>[0.0]</td>\n",
       "      <td>[38.0]</td>\n",
       "      <td>[0.0]</td>\n",
       "      <td>[262000.0]</td>\n",
       "      <td>[1.0]</td>\n",
       "      <td>[137.0]</td>\n",
       "      <td>[1.0]</td>\n",
       "      <td>[0.0]</td>\n",
       "      <td>[115.0]</td>\n",
       "      <td>[0.0]</td>\n",
       "    </tr>\n",
       "    <tr>\n",
       "      <th>75%</th>\n",
       "      <td>[70.0]</td>\n",
       "      <td>[1.0]</td>\n",
       "      <td>[582.0]</td>\n",
       "      <td>[1.0]</td>\n",
       "      <td>[45.0]</td>\n",
       "      <td>[1.0]</td>\n",
       "      <td>[303500.0]</td>\n",
       "      <td>[1.0]</td>\n",
       "      <td>[140.0]</td>\n",
       "      <td>[1.0]</td>\n",
       "      <td>[1.0]</td>\n",
       "      <td>[203.0]</td>\n",
       "      <td>[1.0]</td>\n",
       "    </tr>\n",
       "    <tr>\n",
       "      <th>skewness</th>\n",
       "      <td>[0.4241724021674245]</td>\n",
       "      <td>[0.2782606644055605]</td>\n",
       "      <td>[4.463110084653752]</td>\n",
       "      <td>[0.3339286842537603]</td>\n",
       "      <td>[0.5553827516973211]</td>\n",
       "      <td>[0.6267318547287857]</td>\n",
       "      <td>[1.462320915734142]</td>\n",
       "      <td>[3.7666141874963857]</td>\n",
       "      <td>[-1.0481360160574988]</td>\n",
       "      <td>[-0.6267318547287857]</td>\n",
       "      <td>[0.770348815438949]</td>\n",
       "      <td>[0.12780264559841184]</td>\n",
       "      <td>[0.7703488154389491]</td>\n",
       "    </tr>\n",
       "    <tr>\n",
       "      <th>kurtosis</th>\n",
       "      <td>[-0.18440563151602163]</td>\n",
       "      <td>[-1.9355630969858053]</td>\n",
       "      <td>[25.1490461965808]</td>\n",
       "      <td>[-1.901254232288715]</td>\n",
       "      <td>[0.0414093598193892]</td>\n",
       "      <td>[-1.6180755665291748]</td>\n",
       "      <td>[6.209254667344446]</td>\n",
       "      <td>[21.53115997797141]</td>\n",
       "      <td>[4.119712007624292]</td>\n",
       "      <td>[-1.6180755665291748]</td>\n",
       "      <td>[-1.4160799150023284]</td>\n",
       "      <td>[-1.2120479666763422]</td>\n",
       "      <td>[-1.4160799150023284]</td>\n",
       "    </tr>\n",
       "  </tbody>\n",
       "</table>\n",
       "</div>"
      ],
      "text/plain": [
       "                             age                anaemia  \\\n",
       "mean         [60.82943143812709]    [0.431438127090301]   \n",
       "median                    [60.0]                  [0.0]   \n",
       "mode                        [60]                    [0]   \n",
       "var         [141.49094296424292]   [0.2461224214944669]   \n",
       "std_dev     [11.894996551670072]  [0.49610726813307915]   \n",
       "min                         [40]                    [0]   \n",
       "max                         [95]                    [1]   \n",
       "count                      [299]                  [299]   \n",
       "25%                       [51.0]                  [0.0]   \n",
       "50%                       [60.0]                  [0.0]   \n",
       "75%                       [70.0]                  [1.0]   \n",
       "skewness    [0.4241724021674245]   [0.2782606644055605]   \n",
       "kurtosis  [-0.18440563151602163]  [-1.9355630969858053]   \n",
       "\n",
       "         creatinine_phosphokinase               diabetes  \\\n",
       "mean          [581.8394648829432]   [0.4180602006688963]   \n",
       "median                    [250.0]                  [0.0]   \n",
       "mode                        [582]                    [0]   \n",
       "var           [941458.5714574311]   [0.2441022648200937]   \n",
       "std_dev       [970.2878807124363]  [0.49406706510360887]   \n",
       "min                          [23]                    [0]   \n",
       "max                        [7861]                    [1]   \n",
       "count                       [299]                  [299]   \n",
       "25%                       [116.5]                  [0.0]   \n",
       "50%                       [250.0]                  [0.0]   \n",
       "75%                       [582.0]                  [1.0]   \n",
       "skewness      [4.463110084653752]   [0.3339286842537603]   \n",
       "kurtosis       [25.1490461965808]   [-1.901254232288715]   \n",
       "\n",
       "             ejection_fraction    high_blood_pressure             platelets  \\\n",
       "mean       [38.08361204013378]   [0.3511705685618729]  [263358.02675585286]   \n",
       "median                  [38.0]                  [0.0]            [262000.0]   \n",
       "mode                      [35]                    [0]              [263358]   \n",
       "var       [140.06345536576063]   [0.2286143969832332]   [9565668749.448944]   \n",
       "std_dev   [11.834840741039173]   [0.4781363790627452]   [97804.23686859861]   \n",
       "min                       [14]                    [0]               [25100]   \n",
       "max                       [80]                    [1]              [850000]   \n",
       "count                    [299]                  [299]                 [299]   \n",
       "25%                     [30.0]                  [0.0]            [212500.0]   \n",
       "50%                     [38.0]                  [0.0]            [262000.0]   \n",
       "75%                     [45.0]                  [1.0]            [303500.0]   \n",
       "skewness  [0.5553827516973211]   [0.6267318547287857]   [1.462320915734142]   \n",
       "kurtosis  [0.0414093598193892]  [-1.6180755665291748]   [6.209254667344446]   \n",
       "\n",
       "              serum_creatinine           serum_sodium                    sex  \\\n",
       "mean       [0.979933110367893]   [136.62541806020067]   [0.6488294314381271]   \n",
       "median                   [1.0]                [137.0]                  [1.0]   \n",
       "mode                       [1]                  [136]                    [1]   \n",
       "var       [1.2076496599402873]      [19.469955781015]  [0.22861439698323285]   \n",
       "std_dev   [1.0989311443126395]    [4.412477283909233]  [0.47813637906274487]   \n",
       "min                        [0]                  [113]                    [0]   \n",
       "max                        [9]                  [148]                    [1]   \n",
       "count                    [299]                  [299]                  [299]   \n",
       "25%                      [0.0]                [134.0]                  [0.0]   \n",
       "50%                      [1.0]                [137.0]                  [1.0]   \n",
       "75%                      [1.0]                [140.0]                  [1.0]   \n",
       "skewness  [3.7666141874963857]  [-1.0481360160574988]  [-0.6267318547287857]   \n",
       "kurtosis   [21.53115997797141]    [4.119712007624292]  [-1.6180755665291748]   \n",
       "\n",
       "                        smoking                   time            DEATH_EVENT  \n",
       "mean       [0.3210702341137124]    [130.2608695652174]   [0.3210702341137124]  \n",
       "median                    [0.0]                [115.0]                  [0.0]  \n",
       "mode                        [0]                  [187]                    [0]  \n",
       "var       [0.21871562927880447]     [6023.96527575139]  [0.21871562927880447]  \n",
       "std_dev    [0.4676704280567721]    [77.61420795029342]   [0.4676704280567721]  \n",
       "min                         [0]                    [4]                    [0]  \n",
       "max                         [1]                  [285]                    [1]  \n",
       "count                     [299]                  [299]                  [299]  \n",
       "25%                       [0.0]                 [73.0]                  [0.0]  \n",
       "50%                       [0.0]                [115.0]                  [0.0]  \n",
       "75%                       [1.0]                [203.0]                  [1.0]  \n",
       "skewness    [0.770348815438949]  [0.12780264559841184]   [0.7703488154389491]  \n",
       "kurtosis  [-1.4160799150023284]  [-1.2120479666763422]  [-1.4160799150023284]  "
      ]
     },
     "execution_count": 8,
     "metadata": {},
     "output_type": "execute_result"
    }
   ],
   "source": [
    "EDA.descriptive_statistical_analysis(data)"
   ]
  },
  {
   "cell_type": "code",
   "execution_count": 9,
   "id": "0cbcede1",
   "metadata": {},
   "outputs": [
    {
     "data": {
      "text/plain": [
       "age                          5.113867\n",
       "anaemia                      0.869647\n",
       "creatinine_phosphokinase     0.599657\n",
       "diabetes                     0.846161\n",
       "ejection_fraction            3.217923\n",
       "high_blood_pressure          0.734457\n",
       "platelets                    2.692706\n",
       "serum_creatinine             0.891715\n",
       "serum_sodium                30.963427\n",
       "sex                          1.356997\n",
       "smoking                      0.686531\n",
       "time                         1.678312\n",
       "DEATH_EVENT                  0.686531\n",
       "dtype: float64"
      ]
     },
     "execution_count": 9,
     "metadata": {},
     "output_type": "execute_result"
    }
   ],
   "source": [
    "#Data preprocessing\n",
    "#standardizing the dataset\n",
    "data1 = (data.mean())/data.std()\n",
    "data1"
   ]
  },
  {
   "cell_type": "code",
   "execution_count": 10,
   "id": "47604257",
   "metadata": {},
   "outputs": [
    {
     "data": {
      "image/png": "[encoded data removed]",
      "text/plain": [
       "<Figure size 640x480 with 1 Axes>"
      ]
     },
     "metadata": {},
     "output_type": "display_data"
    }
   ],
   "source": [
    "#this graph shows the frequency of each data column in the data set\n",
    "EDA.graph(data1)"
   ]
  },
  {
   "cell_type": "markdown",
   "id": "55f7e9a3",
   "metadata": {},
   "source": [
    "# CLASSIFICATION 1"
   ]
  },
  {
   "cell_type": "code",
   "execution_count": 11,
   "id": "c7a64d15",
   "metadata": {},
   "outputs": [],
   "source": [
    "x = data.drop(\"DEATH_EVENT\", axis = 1)\n",
    "y = data[\"DEATH_EVENT\"]"
   ]
  },
  {
   "cell_type": "code",
   "execution_count": 12,
   "id": "10bc5b68",
   "metadata": {},
   "outputs": [],
   "source": [
    "x_train, x_test,y_train,y_test = train_test_split(x,y,test_size = 0.2, random_state = 10)\n"
   ]
  },
  {
   "cell_type": "code",
   "execution_count": 13,
   "id": "29758765",
   "metadata": {},
   "outputs": [
    {
     "name": "stdout",
     "output_type": "stream",
     "text": [
      "<class 'pandas.core.frame.DataFrame'>\n",
      "RangeIndex: 299 entries, 0 to 298\n",
      "Data columns (total 13 columns):\n",
      " #   Column                    Non-Null Count  Dtype\n",
      "---  ------                    --------------  -----\n",
      " 0   age                       299 non-null    int64\n",
      " 1   anaemia                   299 non-null    int64\n",
      " 2   creatinine_phosphokinase  299 non-null    int64\n",
      " 3   diabetes                  299 non-null    int64\n",
      " 4   ejection_fraction         299 non-null    int64\n",
      " 5   high_blood_pressure       299 non-null    int64\n",
      " 6   platelets                 299 non-null    int64\n",
      " 7   serum_creatinine          299 non-null    int64\n",
      " 8   serum_sodium              299 non-null    int64\n",
      " 9   sex                       299 non-null    int64\n",
      " 10  smoking                   299 non-null    int64\n",
      " 11  time                      299 non-null    int64\n",
      " 12  DEATH_EVENT               299 non-null    int64\n",
      "dtypes: int64(13)\n",
      "memory usage: 30.5 KB\n"
     ]
    }
   ],
   "source": [
    "data.info()"
   ]
  },
  {
   "cell_type": "code",
   "execution_count": 17,
   "id": "25da5eab",
   "metadata": {},
   "outputs": [
    {
     "name": "stdout",
     "output_type": "stream",
     "text": [
      "Naive Bayes confusion matrix [[39  4]\n",
      " [ 7 10]]\n",
      "accuracy 0.8166666666666667\n",
      "precision 0.8099896480331262\n",
      "recall 0.8166666666666667\n",
      "f1_score 0.8108855865651806\n",
      "\n",
      "Logistic Regression confusion matrix [[37  6]\n",
      " [ 6 11]]\n",
      "accuracy 0.8\n",
      "precision 0.8\n",
      "recall 0.8\n",
      "f1_score 0.8\n",
      "\n",
      "Support Vector Machine confusion matrix [[43  0]\n",
      " [17  0]]\n",
      "accuracy 0.7166666666666667\n",
      "precision 0.5136111111111111\n",
      "recall 0.7166666666666667\n",
      "f1_score 0.5983818770226537\n",
      "\n"
     ]
    },
    {
     "name": "stderr",
     "output_type": "stream",
     "text": [
      "C:\\ProgramData\\Anaconda3\\lib\\site-packages\\sklearn\\linear_model\\_logistic.py:814: ConvergenceWarning: lbfgs failed to converge (status=1):\n",
      "STOP: TOTAL NO. of ITERATIONS REACHED LIMIT.\n",
      "\n",
      "Increase the number of iterations (max_iter) or scale the data as shown in:\n",
      "    https://scikit-learn.org/stable/modules/preprocessing.html\n",
      "Please also refer to the documentation for alternative solver options:\n",
      "    https://scikit-learn.org/stable/modules/linear_model.html#logistic-regression\n",
      "  n_iter_i = _check_optimize_result(\n",
      "C:\\ProgramData\\Anaconda3\\lib\\site-packages\\sklearn\\metrics\\_classification.py:1318: UndefinedMetricWarning: Precision is ill-defined and being set to 0.0 in labels with no predicted samples. Use `zero_division` parameter to control this behavior.\n",
      "  _warn_prf(average, modifier, msg_start, len(result))\n",
      "C:\\ProgramData\\Anaconda3\\lib\\site-packages\\sklearn\\metrics\\_classification.py:1318: UndefinedMetricWarning: Precision is ill-defined and being set to 0.0 in labels with no predicted samples. Use `zero_division` parameter to control this behavior.\n",
      "  _warn_prf(average, modifier, msg_start, len(result))\n"
     ]
    },
    {
     "name": "stdout",
     "output_type": "stream",
     "text": [
      "Random Forest confusion matrix [[34  9]\n",
      " [ 6 11]]\n",
      "accuracy 0.75\n",
      "precision 0.765\n",
      "recall 0.75\n",
      "f1_score 0.7556170628459784\n",
      "\n",
      "KNearest Neighbor confusion matrix [[31 12]\n",
      " [15  2]]\n",
      "accuracy 0.55\n",
      "precision 0.5234472049689441\n",
      "recall 0.55\n",
      "f1_score 0.5358100761145344\n",
      "\n",
      "Multilayer Perception confusion matrix [[ 0 43]\n",
      " [ 0 17]]\n",
      "accuracy 0.2833333333333333\n",
      "precision 0.08027777777777777\n",
      "recall 0.2833333333333333\n",
      "f1_score 0.1251082251082251\n",
      "\n",
      "          Naive Bayes Logistic Regression Support Vector Machine  \\\n",
      "0  [[39, 4], [7, 10]]  [[37, 6], [6, 11]]     [[43, 0], [17, 0]]   \n",
      "1            0.816667                 0.8               0.716667   \n",
      "2             0.80999                 0.8               0.513611   \n",
      "3            0.816667                 0.8               0.716667   \n",
      "4            0.810886                 0.8               0.598382   \n",
      "\n",
      "        Random Forest    KNearest Neighbor Multilayer Perception         label  \n",
      "0  [[34, 9], [6, 11]]  [[31, 12], [15, 2]]    [[0, 43], [0, 17]]  conf_matrix1  \n",
      "1                0.75                 0.55              0.283333    acc_score1  \n",
      "2               0.765             0.523447              0.080278   prec_score1  \n",
      "3                0.75                 0.55              0.283333     re_score1  \n",
      "4            0.755617              0.53581              0.125108     f1_score1  \n"
     ]
    },
    {
     "name": "stderr",
     "output_type": "stream",
     "text": [
      "C:\\ProgramData\\Anaconda3\\lib\\site-packages\\sklearn\\neighbors\\_classification.py:228: FutureWarning: Unlike other reduction functions (e.g. `skew`, `kurtosis`), the default behavior of `mode` typically preserves the axis it acts along. In SciPy 1.11.0, this behavior will change: the default value of `keepdims` will become False, the `axis` over which the statistic is taken will be eliminated, and the value None will no longer be accepted. Set `keepdims` to True or False to avoid this warning.\n",
      "  mode, _ = stats.mode(_y[neigh_ind, k], axis=1)\n",
      "C:\\ProgramData\\Anaconda3\\lib\\site-packages\\sklearn\\metrics\\_classification.py:1318: UndefinedMetricWarning: Precision is ill-defined and being set to 0.0 in labels with no predicted samples. Use `zero_division` parameter to control this behavior.\n",
      "  _warn_prf(average, modifier, msg_start, len(result))\n",
      "C:\\ProgramData\\Anaconda3\\lib\\site-packages\\sklearn\\metrics\\_classification.py:1318: UndefinedMetricWarning: Precision is ill-defined and being set to 0.0 in labels with no predicted samples. Use `zero_division` parameter to control this behavior.\n",
      "  _warn_prf(average, modifier, msg_start, len(result))\n"
     ]
    }
   ],
   "source": [
    "models = {\n",
    "    \"Naive Bayes\" : GaussianNB(),\n",
    "    \"Logistic Regression\" :LogisticRegression(),\n",
    "    \"Support Vector Machine\":SVC(),\n",
    "    \"Random Forest\":RandomForestClassifier(),\n",
    "    \"KNearest Neighbor\":KNeighborsClassifier(),\n",
    "    \"Multilayer Perception\":MLPClassifier()}\n",
    "\n",
    "\n",
    "\n",
    "results = {}\n",
    "for name, model in models.items():\n",
    "    np.random.seed(50)\n",
    "    model.fit(x_train, y_train)\n",
    "    y_pred = model.predict(x_test)\n",
    "    \n",
    "    #con_matrix1 = confusion_matrix(y_test, y_pred)\n",
    "    #acc_score1 = accuracy_score(y_test, y_pred)\n",
    "    #prec_score1 = precision_score(y_test, y_pred, average = \"weighted\")\n",
    "   # re_score1 = recall_score(y_test, y_pred, average = \"weighted\")\n",
    "    #f1_score = f1_score(y_test, y_pred, average = \"weighted\")\n",
    "    \n",
    "    \n",
    "    print(name,\"confusion matrix\", confusion_matrix(y_test, y_pred))\n",
    "    print(\"accuracy\",accuracy_score(y_test, y_pred))\n",
    "    print(\"precision\",precision_score(y_test, y_pred, average = \"weighted\"))\n",
    "    print(\"recall\", recall_score(y_test, y_pred, average = \"weighted\"))\n",
    "    print(\"f1_score\",f1_score(y_test, y_pred, average = \"weighted\"))\n",
    "    print()\n",
    "    \n",
    "    conf_matrix1 =  confusion_matrix(y_test, y_pred)\n",
    "    acc_score1 = accuracy_score(y_test, y_pred)\n",
    "    prec_score1 = precision_score(y_test, y_pred, average = \"weighted\")\n",
    "    re_score1 = recall_score(y_test, y_pred, average = \"weighted\")\n",
    "    f1_score1 = f1_score(y_test, y_pred, average = \"weighted\")\n",
    "    results[name] =[conf_matrix1,acc_score1, prec_score1,re_score1,f1_score1]\n",
    "models1 = pd.DataFrame.from_dict(results)\n",
    "models1[\"label\"] = [\"conf_matrix1\",\"acc_score1\",\"prec_score1\",\"re_score1\",\"f1_score1\"]\n",
    "print(models1)\n"
   ]
  },
  {
   "cell_type": "markdown",
   "id": "5cd12812",
   "metadata": {},
   "source": [
    "According to the table of model performances above, the Random Forest model is the best recommendation for this dataset."
   ]
  },
  {
   "cell_type": "markdown",
   "id": "05d5ae4a",
   "metadata": {},
   "source": [
    "# classification II"
   ]
  },
  {
   "cell_type": "code",
   "execution_count": 16,
   "id": "5773f276",
   "metadata": {},
   "outputs": [
    {
     "data": {
      "text/plain": [
       "<AxesSubplot:xlabel='index', ylabel='DEATH_EVENT'>"
      ]
     },
     "execution_count": 16,
     "metadata": {},
     "output_type": "execute_result"
    },
    {
     "data": {
      "image/png": "[encoded data removed]",
      "text/plain": [
       "<Figure size 640x480 with 1 Axes>"
      ]
     },
     "metadata": {},
     "output_type": "display_data"
    }
   ],
   "source": [
    "#create a table to check for inbalance in the target column\n",
    "target_column = data[\"DEATH_EVENT\"]\n",
    "balance_check = data[\"DEATH_EVENT\"].value_counts().reset_index()\n",
    "sns.barplot(x=\"index\", y=\"DEATH_EVENT\", data = balance_check, palette = \"cividis\")"
   ]
  },
  {
   "cell_type": "markdown",
   "id": "4daa63a0",
   "metadata": {},
   "source": [
    "From the graph above, DEATH_EVENT = 0 is greater than that of DEATH_EVENT = 1. This implies that our dataset is imbalanced. To balance the dataset we can either over sample or undersample. For the above dataset, undersampling would have been the best choice to reduce DEATH_EVENT = 0 to the same ratio as DEATH_EVENT = 1 but this would result in loosing 100 rows of DEATH_EVENT = 0 . so the SMOTE would be used to balance our dataset."
   ]
  },
  {
   "cell_type": "code",
   "execution_count": null,
   "id": "30bf8032",
   "metadata": {},
   "outputs": [],
   "source": [
    "#balancing the dataset using smote\n",
    "smote = SMOTE()\n",
    "x_smoted,y_smoted = smote.fit_resample(x,y)\n",
    "#creating a new data table from the balanced data\n",
    "data_bal = pd.concat([x_smoted,y_smoted], axis=1 )\n",
    "print(data)\n"
   ]
  },
  {
   "cell_type": "code",
   "execution_count": null,
   "id": "644fd13a",
   "metadata": {},
   "outputs": [],
   "source": [
    "#splitting the balanced dataset\n",
    "x = data_bal.drop(\"DEATH_EVENT\", axis = 1)\n",
    "y = data_bal[\"DEATH_EVENT\"]"
   ]
  },
  {
   "cell_type": "code",
   "execution_count": null,
   "id": "5b0ec954",
   "metadata": {},
   "outputs": [],
   "source": [
    "#splitting into train and test\n",
    "x_train, x_test,y_train,y_test = train_test_split(x,y,test_size = 0.2, random_state = 0)\n"
   ]
  },
  {
   "cell_type": "code",
   "execution_count": null,
   "id": "f8be1876",
   "metadata": {},
   "outputs": [],
   "source": [
    "#creating models from the balanced dataset and looping each model over the dataset\n",
    "models = {\n",
    "    \"Naive Bayes\" : GaussianNB(),\n",
    "    \"Logistic Regression\" :LogisticRegression(),\n",
    "    \"Support Vector Machine\":SVC(),\n",
    "    \"Random Forest\":RandomForestClassifier(),\n",
    "    \"KNearest Neighbor\":KNeighborsClassifier(),\n",
    "    \"Multilayer Perception\":MLPClassifier()}\n",
    "\n",
    "\n",
    "\n",
    "results = {}\n",
    "for name, model in models.items():\n",
    "    model.fit(x_train, y_train)\n",
    "    y_pred = model.predict(x_test)\n",
    "    \n",
    "   \n",
    "    \n",
    "    print(name,\"confusion matrix\", confusion_matrix(y_test, y_pred))\n",
    "    print(\"accuracy\",accuracy_score(y_test, y_pred))\n",
    "    print(\"precision\",precision_score(y_test, y_pred, average = \"weighted\"))\n",
    "    print(\"recall\", recall_score(y_test, y_pred, average = \"weighted\"))\n",
    "    print(\"f1_score\",f1_score(y_test, y_pred, average = \"weighted\"))\n",
    "    print()\n",
    "    \n",
    "    conf_matrix2 =  confusion_matrix(y_test, y_pred)\n",
    "    acc_score2 = accuracy_score(y_test, y_pred)\n",
    "    prec_score2 = precision_score(y_test, y_pred, average = \"weighted\")\n",
    "    re_score2 = recall_score(y_test, y_pred, average = \"weighted\")\n",
    "    f1_score2 = f1_score(y_test, y_pred, average = \"weighted\")\n",
    "    results[name] =[conf_matrix2,acc_score2, prec_score2,re_score2,f1_score2]\n",
    "models2 = pd.DataFrame.from_dict(results)\n",
    "models2[\"label\"] = [\"conf_matrix2\",\"acc_score2\",\"prec_score2\",\"re_score2\",\"f1_score2\"]\n",
    "print(models2)\n"
   ]
  },
  {
   "cell_type": "markdown",
   "id": "f1c4d3f8",
   "metadata": {},
   "source": []
  },
  {
   "cell_type": "code",
   "execution_count": null,
   "id": "8f0582b3",
   "metadata": {},
   "outputs": [],
   "source": [
    "#comparing the results of naives bayes model\n",
    "index = [\"conf_matrix\",\"acc_score\",\"prec_score\",\"re_score\",\"f1_score\"]\n",
    "Naive_compare = pd.DataFrame(np.array(models1[\"Naive Bayes\"]),np.array(models2[\"Naive Bayes\"])).reset_index()\n",
    "Naive_compare.insert(loc = 0, value = index, column = \"perf\")\n",
    "\n",
    "Naive_compare.columns =[\"perf\",\"bal\",\"imbal\"]\n",
    "Naive_compare\n",
    "#imbal represent the model performs of the first classification while bal represent the value of the balaced classification"
   ]
  },
  {
   "cell_type": "code",
   "execution_count": null,
   "id": "52e8aa48",
   "metadata": {},
   "outputs": [],
   "source": []
  },
  {
   "cell_type": "code",
   "execution_count": null,
   "id": "03d968fe",
   "metadata": {},
   "outputs": [],
   "source": [
    "#comparing the results of Logistic regression model\n",
    "index = [\"conf_matrix\",\"acc_score\",\"prec_score\",\"re_score\",\"f1_score\"]\n",
    "Logistics_compare = pd.DataFrame(np.array(models1[\"Logistic Regression\"]),np.array(models2[\"Logistic Regression\"])).reset_index()\n",
    "Logistics_compare.insert(loc = 0, value = index, column = \"perf\")\n",
    "\n",
    "Logistics_compare.columns =[\"perf\",\"bal\",\"imbal\"]\n",
    "Logistics_compare\n",
    "#imbal represent the model performs of the first classification while bal represent the value of the balaced classification"
   ]
  },
  {
   "cell_type": "code",
   "execution_count": null,
   "id": "89fc45ce",
   "metadata": {},
   "outputs": [],
   "source": []
  },
  {
   "cell_type": "code",
   "execution_count": null,
   "id": "e4edc11b",
   "metadata": {},
   "outputs": [],
   "source": [
    "#comparing the results of SVM model\n",
    "index = [\"conf_matrix\",\"acc_score\",\"prec_score\",\"re_score\",\"f1_score\"]\n",
    "SVM_compare = pd.DataFrame(np.array(models1[\"Support Vector Machine\"]),np.array(models2[\"Support Vector Machine\"])).reset_index()\n",
    "SVM_compare.insert(loc = 0, value = index, column = \"perf\")\n",
    "\n",
    "SVM_compare.columns =[\"perf\",\"bal\",\"imbal\"]\n",
    "SVM_compare\n",
    "#imbal represent the model performs of the first classification while bal represent the value of the balaced classification"
   ]
  },
  {
   "cell_type": "markdown",
   "id": "c481f055",
   "metadata": {},
   "source": [
    "According to the table above, the model performance of the balanced dataset is higher than that which was imbalanced. This implies that SVM is data biassed."
   ]
  },
  {
   "cell_type": "code",
   "execution_count": null,
   "id": "c7ee05d4",
   "metadata": {},
   "outputs": [],
   "source": [
    "#comparing the results of  Random Forest model\n",
    "index = [\"conf_matrix\",\"acc_score\",\"prec_score\",\"re_score\",\"f1_score\"]\n",
    "Randfor_compare = pd.DataFrame(np.array(models1[\"Random Forest\"]),np.array(models2[\"Random Forest\"])).reset_index()\n",
    "Randfor_compare.insert(loc = 0, value = index, column = \"perf\")\n",
    "\n",
    "Randfor_compare.columns =[\"perf\",\"bal\",\"imbal\"]\n",
    "Randfor_compare\n",
    "#imbal represent the model performs of the first classification while bal represent the value of the balaced classification"
   ]
  },
  {
   "cell_type": "code",
   "execution_count": null,
   "id": "4cc1b40c",
   "metadata": {},
   "outputs": [],
   "source": []
  },
  {
   "cell_type": "code",
   "execution_count": null,
   "id": "73a1fc94",
   "metadata": {},
   "outputs": [],
   "source": [
    "#comparing the results of KNN model\n",
    "index = [\"conf_matrix\",\"acc_score\",\"prec_score\",\"re_score\",\"f1_score\"]\n",
    "KNN_compare = pd.DataFrame(np.array(models1[\"KNearest Neighbor\"]),np.array(models2[\"KNearest Neighbor\"])).reset_index()\n",
    "KNN_compare.insert(loc = 0, value = index, column = \"perf\")\n",
    "\n",
    "KNN_compare.columns =[\"perf\",\"bal\",\"imbal\"]\n",
    "KNN_compare\n",
    "#imbal represent the model performs of the first classification while bal represent the value of the balaced classification"
   ]
  },
  {
   "cell_type": "code",
   "execution_count": null,
   "id": "2e2f07b4",
   "metadata": {},
   "outputs": [],
   "source": [
    "#comparing the results of Multilayer Perception model\n",
    "index = [\"conf_matrix\",\"acc_score\",\"prec_score\",\"re_score\",\"f1_score\"]\n",
    "Multilayer_compare = pd.DataFrame(np.array(models1[\"Multilayer Perception\"]),np.array(models2[\"Multilayer Perception\"])).reset_index()\n",
    "Multilayer_compare.insert(loc = 0, value = index, column = \"perf\")\n",
    "\n",
    "Multilayer_compare.columns =[\"perf\",\"bal\",\"imbal\"]\n",
    "Multilayer_compare\n",
    "#imbal represent the model performs of the first classification while bal represent the value of the balaced classification"
   ]
  },
  {
   "cell_type": "markdown",
   "id": "890ebf20",
   "metadata": {},
   "source": [
    "# Feature Selection"
   ]
  },
  {
   "cell_type": "code",
   "execution_count": null,
   "id": "70190b99",
   "metadata": {},
   "outputs": [],
   "source": [
    "from scipy.stats import mannwhitneyu, chi2_contingency\n",
    "#splitting data into survived and dead\n",
    "dead = data_bal[data_bal[\"DEATH_EVENT\"]==0]\n",
    "survived= data_bal[data_bal[\"DEATH_EVENT\"]==1]\n",
    "\n",
    "#creating an empty list to store the values of the reults\n",
    "feature_name =[]\n",
    "mann_values = []\n",
    "chi_values = []\n",
    " #looping over the data features\n",
    "for feature in data_bal.columns:\n",
    "    feature_name.append(feature)\n",
    "    if feature != \"DEATH_EVENT\":\n",
    "        stat, p = mannwhitneyu(dead[feature],survived[feature])\n",
    "        mann_values.append([feature, p ])\n",
    "        c,p,dof,exp = chi2_contingency(pd.crosstab(data_bal[feature],data[\"DEATH_EVENT\"]))\n",
    "        chi_values.append([feature,p])\n",
    "    \n",
    "da1 = pd.DataFrame(chi_values)\n",
    "da1.columns =[\"Features\",\"Chi_values\"]\n",
    "da2 = pd.DataFrame(mann_values)\n",
    "da2.columns =[\"Features\",\"Mann_values\"]\n",
    "significance = pd.concat([da1,da2[\"Mann_values\"]], axis = 1)\n",
    "\n",
    "significance\n",
    "\n",
    "\n",
    "    "
   ]
  },
  {
   "cell_type": "code",
   "execution_count": null,
   "id": "40f80148",
   "metadata": {},
   "outputs": [],
   "source": [
    "#filtering significance by the p-values\n",
    "sign_filter = significance[(significance.Chi_values<0.05) & (significance.Mann_values<0.05)]\n",
    "sign_filter"
   ]
  },
  {
   "cell_type": "code",
   "execution_count": null,
   "id": "8bfe9484",
   "metadata": {},
   "outputs": [],
   "source": [
    "clf = RandomForestClassifier()\n",
    "clf.fit(x_train, y_train)"
   ]
  },
  {
   "cell_type": "code",
   "execution_count": null,
   "id": "c5a4c35d",
   "metadata": {},
   "outputs": [],
   "source": [
    "#Drawing the graph for feature importance\n",
    "plt.figure(figsize = (10,8))\n",
    "(pd.Series(clf.feature_importances_,index = x.columns ).nlargest(4).plot(kind=\"barh\"))\n",
    "plt.title(\"Feature Importance\")\n",
    "plt.show()"
   ]
  },
  {
   "cell_type": "markdown",
   "id": "64ecaf3d",
   "metadata": {},
   "source": [
    "# CLASSIFICATION III"
   ]
  },
  {
   "cell_type": "code",
   "execution_count": null,
   "id": "03c05eec",
   "metadata": {},
   "outputs": [],
   "source": [
    "x = data_bal[[\"ejection_fraction\",\"serum_creatinine\" ,\"serum_sodium\",\"time\"]]\n",
    "y = data_bal[\"DEATH_EVENT\"]"
   ]
  },
  {
   "cell_type": "code",
   "execution_count": null,
   "id": "601d205e",
   "metadata": {},
   "outputs": [],
   "source": [
    "x_train, x_test,y_train,y_test = train_test_split(x,y,test_size = 0.2, random_state = 0)"
   ]
  },
  {
   "cell_type": "code",
   "execution_count": null,
   "id": "97f916f0",
   "metadata": {},
   "outputs": [],
   "source": [
    "#creating models from the selected feature dataset and looping each model over the dataset\n",
    "models = {\n",
    "    \"Naive Bayes\" : GaussianNB(),\n",
    "    \"Logistic Regression\" :LogisticRegression(),\n",
    "    \"Support Vector Machine\":SVC(),\n",
    "    \"Random Forest\":RandomForestClassifier(),\n",
    "    \"KNearest Neighbor\":KNeighborsClassifier(),\n",
    "    \"Multilayer Perception\":MLPClassifier()}\n",
    "\n",
    "\n",
    "\n",
    "results = {}\n",
    "for name, model in models.items():\n",
    "    model.fit(x_train, y_train)\n",
    "    y_pred = model.predict(x_test)\n",
    "    \n",
    "   \n",
    "    \n",
    "    print(name,\"confusion matrix\", confusion_matrix(y_test, y_pred))\n",
    "    print(\"accuracy\",accuracy_score(y_test, y_pred))\n",
    "    print(\"precision\",precision_score(y_test, y_pred, average = \"weighted\"))\n",
    "    print(\"recall\", recall_score(y_test, y_pred, average = \"weighted\"))\n",
    "    print(\"f1_score\",f1_score(y_test, y_pred, average = \"weighted\"))\n",
    "    print()\n",
    "    \n",
    "    conf_matrix3 =  confusion_matrix(y_test, y_pred)\n",
    "    acc_score3 = accuracy_score(y_test, y_pred)\n",
    "    prec_score3 = precision_score(y_test, y_pred, average = \"weighted\")\n",
    "    re_score3 = recall_score(y_test, y_pred, average = \"weighted\")\n",
    "    f1_score3 = f1_score(y_test, y_pred, average = \"weighted\")\n",
    "    results[name] =[conf_matrix3,acc_score3, prec_score3,re_score3,f1_score3]\n",
    "models3 = pd.DataFrame.from_dict(results)\n",
    "models3[\"label\"] = [\"conf_matrix3\",\"acc_score3\",\"prec_score3\",\"re_score3\",\"f1_score3\"]\n",
    "print(models3)\n"
   ]
  },
  {
   "cell_type": "code",
   "execution_count": null,
   "id": "2aadc628",
   "metadata": {},
   "outputs": [],
   "source": [
    "\n",
    "sel_feat = pd.Series(np.array(models3[\"Naive Bayes\"]))\n",
    "Naive_compare1 = pd.concat([Naive_compare,sel_feat],axis=1)\n",
    "\n",
    "Naive_compare1.columns =[\"perf\",\"bal\",\"imbal\",\"Sel_feature\"]\n",
    "Naive_compare1\n",
    "#imbal represent the model performs of the first classification while bal represent the value of the balaced classification,sel_feature for feature selection"
   ]
  },
  {
   "cell_type": "code",
   "execution_count": null,
   "id": "a59f827d",
   "metadata": {},
   "outputs": [],
   "source": [
    "#comparing the results of Logistic regression model\n",
    "sel_featl = pd.Series(np.array(models3[\"Logistic Regression\"]))\n",
    "Logistics_compare1 = pd.concat([Logistics_compare,sel_featl],axis=1)\n",
    "\n",
    "Logistics_compare1.columns =[\"perf\",\"bal\",\"imbal\",\"sel_features\"]\n",
    "Logistics_compare1\n",
    "#imbal represent the model performs of the first classification while bal represent the value of the balaced classification,sel_feature for feature selection"
   ]
  },
  {
   "cell_type": "code",
   "execution_count": null,
   "id": "899f503a",
   "metadata": {},
   "outputs": [],
   "source": [
    "#comparing the results of SVM model\n",
    "sel_feats =  pd.Series(np.array(models3[\"Support Vector Machine\"]))\n",
    "SVM_compare1 = pd.concat([SVM_compare,sel_feats],axis =1)\n",
    "\n",
    "SVM_compare1.columns =[\"perf\",\"bal\",\"imbal\",\"Sel_features\"]\n",
    "SVM_compare1\n",
    "#imbal represent the model performs of the first classification while bal represent the value of the balaced classification\n",
    "#and sel_features for model performance of the feature importance\"\"\""
   ]
  },
  {
   "cell_type": "code",
   "execution_count": null,
   "id": "e8c00e27",
   "metadata": {},
   "outputs": [],
   "source": [
    "#comparing the results of  Random Forest model\n",
    "sel_featr =  pd.Series(np.array(models3[\"Random Forest\"]))\n",
    "Randfor_compare1 = pd.concat([Randfor_compare,sel_featr],axis=1)\n",
    "Randfor_compare1.columns =[\"perf\",\"imbal\",\"bal\",\"sel_feature\"]\n",
    "Randfor_compare1\n",
    "#imbal represent the model performs of the first classification while bal represent the value of the balaced classification\n",
    "#and sel_features for model performance of the feature importance"
   ]
  },
  {
   "cell_type": "code",
   "execution_count": null,
   "id": "31ddd9b1",
   "metadata": {},
   "outputs": [],
   "source": [
    "#comparing the results of KNN model\n",
    "sel_featk =  pd.Series(np.array(models3[\"KNearest Neighbor\"]))\n",
    "KNN_compare1 = pd.concat([KNN_compare,sel_featk],axis =1)\n",
    "\n",
    "KNN_compare1.columns =[\"perf\",\"bal\",\"imbal\",\"sel_feature\"]\n",
    "KNN_compare1\n",
    "#imbal represent the model performs of the first classification while bal represent the value of the balaced classification\n",
    "#and sel_features for model performance of the feature importance classification"
   ]
  },
  {
   "cell_type": "code",
   "execution_count": null,
   "id": "61516735",
   "metadata": {},
   "outputs": [],
   "source": [
    "#comparing the results of Multilayer Perception model\n",
    "sel_fetm = pd.Series(np.array(models3[\"Multilayer Perception\"]))\n",
    "Multilayer_compare1 = pd.concat([Multilayer_compare,sel_fetm],axis=1)\n",
    "Multilayer_compare1.columns =[\"perf\",\"bal\",\"imbal\",\"sel_feature\"]\n",
    "Multilayer_compare1\n",
    "#imbal represent the model performs of the first classification while bal represent the value of the balaced classification\n",
    "#and sel_features for model performance of the feature importance"
   ]
  },
  {
   "cell_type": "code",
   "execution_count": null,
   "id": "603bda4c",
   "metadata": {},
   "outputs": [],
   "source": []
  },
  {
   "cell_type": "code",
   "execution_count": null,
   "id": "f07cf162",
   "metadata": {},
   "outputs": [],
   "source": []
  }
 ],
 "metadata": {
  "kernelspec": {
   "display_name": "Python 3 (ipykernel)",
   "language": "python",
   "name": "python3"
  },
  "language_info": {
   "codemirror_mode": {
    "name": "ipython",
    "version": 3
   },
   "file_extension": ".py",
   "mimetype": "text/x-python",
   "name": "python",
   "nbconvert_exporter": "python",
   "pygments_lexer": "ipython3",
   "version": "3.9.13"
  }
 },
 "nbformat": 4,
 "nbformat_minor": 5
}
